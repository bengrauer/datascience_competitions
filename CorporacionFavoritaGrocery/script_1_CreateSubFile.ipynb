{
 "cells": [
  {
   "cell_type": "markdown",
   "metadata": {},
   "source": [
    "### This script trims down the main training data/file.  New train time-frame would be 2016-08-01 to 2017-08-15.  \n",
    "\n",
    "There were two reasons for this.  The first reason being that the shortening of the file would load faster to start work faster.  The second reason being a natural disaster in the area in April 2016.  This could skew the data going back farther in time, so I made a decision to give 3 months after the event (to August 2016) to hypothetically let the grocery store eco-system return to normal."
   ]
  },
  {
   "cell_type": "code",
   "execution_count": 1,
   "metadata": {},
   "outputs": [],
   "source": [
    "import numpy as np\n",
    "import time\n",
    "\n",
    "import string\n",
    "import pandas as pd"
   ]
  },
  {
   "cell_type": "code",
   "execution_count": 2,
   "metadata": {},
   "outputs": [],
   "source": [
    "pd.set_option('display.float_format', lambda x:'%f'%x)"
   ]
  },
  {
   "cell_type": "code",
   "execution_count": 3,
   "metadata": {},
   "outputs": [],
   "source": [
    "# function to display time\n",
    "def print_elapsed_time(elapsed_time):\n",
    "    if elapsed_time > 60:\n",
    "        print('Time to Finish: '+str(elapsed_time/60) + ' min and ' + str(elapsed_time/(60*2)) + ' seconds' )\n",
    "    else:\n",
    "        print('Time to Finish: '+str(elapsed_time) + ' seconds')  "
   ]
  },
  {
   "cell_type": "code",
   "execution_count": 4,
   "metadata": {},
   "outputs": [
    {
     "name": "stderr",
     "output_type": "stream",
     "text": [
      "C:\\ProgramData\\Anaconda3\\lib\\site-packages\\IPython\\core\\interactiveshell.py:2698: DtypeWarning: Columns (5) have mixed types. Specify dtype option on import or set low_memory=False.\n",
      "  interactivity=interactivity, compiler=compiler, result=result)\n"
     ]
    },
    {
     "name": "stdout",
     "output_type": "stream",
     "text": [
      "Time to Finish: 1.7586731592814127 min and 0.8793365796407063 seconds\n",
      "Time to Finish: 2.425825595855713 seconds\n"
     ]
    }
   ],
   "source": [
    "# For main processing for comp\n",
    "# imports\n",
    "import pandas as pd\n",
    "import numba\n",
    "import numpy as np\n",
    "\n",
    "import time\n",
    "import datetime\n",
    "from pandas.tseries.offsets import DateOffset\n",
    "import math\n",
    "\n",
    "# set directory and files\n",
    "directory = 'D:\\\\project\\\\data\\\\kg_corpgroc\\\\'\n",
    "file_test = 'test.csv'\n",
    "file_train = 'train.csv'\n",
    "\n",
    " # only read in id, date, store_nbr, item_nbr for now\n",
    "# set the column data types\n",
    "coltypes_train = {#'id':'float64',\n",
    "            'id':'int64',\n",
    "          #'t_date':'datetime64',\n",
    "          'store_nbr':'int8',\n",
    "           'item_nbr':'int32',\n",
    "            'unit_sales':'float64',\n",
    "            'promotion':'bool'\n",
    "          }\n",
    "\n",
    "coltypes_test = {#'id':'float64',\n",
    "            'id':'int64',\n",
    "          #'t_date':'datetime64',\n",
    "          'store_nbr':'int8',\n",
    "           'item_nbr':'int32',\n",
    "            # 'unit_sales':'floag64'\n",
    "            'promotion':'bool'\n",
    "          }\n",
    "\n",
    "# Load Train / Test\n",
    "start_time = time.time()\n",
    "df_train = pd.read_csv(directory + file_train,dtype=coltypes_train,parse_dates=['date'],infer_datetime_format=True)\n",
    "print_elapsed_time(time.time() - start_time)\n",
    "\n",
    "\n",
    "start_time = time.time()\n",
    "df_test = pd.read_csv(directory + file_test,dtype=coltypes_test,parse_dates=['date'],infer_datetime_format=True)\n",
    "print_elapsed_time(time.time() - start_time)"
   ]
  },
  {
   "cell_type": "code",
   "execution_count": 5,
   "metadata": {},
   "outputs": [],
   "source": [
    "# Write the temporary train - to speed up loads\n",
    "df_train.set_index('date',inplace=True)\n",
    "df_test.set_index('date',inplace=True)\n",
    "\n",
    "# Filter the data.  We are only pulling back from August of last year for now\n",
    "df_train = df_train[\"2016-08-01\":]\n",
    "\n",
    "df_train_20160801_20170814 = df_train[\"2016-08-01\":].copy()\n",
    "df_train_20160801_20170814.reset_index(inplace=True)\n",
    "df_train_20160801_20170814 = df_train_20160801_20170814[['id','date','store_nbr','item_nbr','unit_sales','onpromotion']]\n",
    "# Round to 4 decimal before exportin\n",
    "df_train_20160801_20170814['unit_sales'] = df_train_20160801_20170814['unit_sales'].round(4)\n",
    "df_train_20160801_20170814.to_csv(directory + 'train_20160801_20170814.csv', index=False, quotechar='\"')"
   ]
  }
 ],
 "metadata": {
  "kernelspec": {
   "display_name": "Python 3",
   "language": "python",
   "name": "python3"
  },
  "language_info": {
   "codemirror_mode": {
    "name": "ipython",
    "version": 3
   },
   "file_extension": ".py",
   "mimetype": "text/x-python",
   "name": "python",
   "nbconvert_exporter": "python",
   "pygments_lexer": "ipython3",
   "version": "3.6.3"
  }
 },
 "nbformat": 4,
 "nbformat_minor": 2
}
