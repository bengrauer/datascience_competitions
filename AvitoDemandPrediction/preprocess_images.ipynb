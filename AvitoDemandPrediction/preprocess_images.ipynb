{
 "cells": [
  {
   "cell_type": "code",
   "execution_count": null,
   "metadata": {},
   "outputs": [],
   "source": [
    "import cv2\n",
    "import numpy as np\n",
    "import pandas as pd\n",
    "import math\n",
    "\n",
    "import os\n",
    "import os.path\n",
    "import glob\n",
    "import sys\n",
    "from datetime import datetime\n",
    "\n",
    "from PIL import Image\n",
    "from PIL import ImageEnhance\n",
    "from PIL import ImageFilter\n",
    "\n",
    "from sklearn.cluster import KMeans\n",
    "from scipy.stats import itemfreq\n",
    "\n",
    "from unidecode import unidecode\n",
    "import codecs"
   ]
  },
  {
   "cell_type": "code",
   "execution_count": null,
   "metadata": {},
   "outputs": [],
   "source": [
    "# All Features we are trying to capture\n",
    "\n",
    "# Image RGB of Mean, Std, Var\n",
    "# Image Size\n",
    "# Color Dominance\n",
    "\n",
    "# - Sharpness / Blur\n",
    "# - Brightness\n",
    "# - Contrast \n",
    "# - Dominant Colors - Need to break apart and store"
   ]
  },
  {
   "cell_type": "markdown",
   "metadata": {},
   "source": [
    "## Class to store all the image properties"
   ]
  },
  {
   "cell_type": "code",
   "execution_count": null,
   "metadata": {},
   "outputs": [],
   "source": [
    "class AvitoImage():\n",
    "    \n",
    "    def __init__(self, imageFileName):\n",
    "\n",
    "        # Instantiate Variables\n",
    "        self.imageFileName = ''\n",
    "        \n",
    "        self.imageTypePil = None\n",
    "        self.imageTypeCv2 = None\n",
    "        \n",
    "        self.clrchn_b_shape = 0\n",
    "        self.clrchn_g_shape = 0\n",
    "        self.clrchn_r_shape = 0\n",
    "        \n",
    "        self.clrchn_b_mean = 0\n",
    "        self.clrchn_g_mean = 0\n",
    "        self.clrchn_r_mean = 0\n",
    "        \n",
    "        self.clrchn_b_std = 0\n",
    "        self.clrchn_g_std = 0\n",
    "        self.clrchn_r_std = 0\n",
    "        \n",
    "        self.clrchn_b_var = 0\n",
    "        self.clrchn_g_var = 0\n",
    "        self.clrchn_r_var = 0\n",
    "        \n",
    "        self.imageSize = 0\n",
    "        \n",
    "        self.blurColorScale = 0\n",
    "        self.blurGreyScale = 0\n",
    "        \n",
    "        self.contrastColorScale = 0\n",
    "        self.contrastGreyScale = 0\n",
    "        \n",
    "        self.brightness = 0\n",
    "        self.brightnessLuminanceA = 0\n",
    "        self.brightnessLuminanceB = 0\n",
    "        self.brightnessLuminanceC = 0\n",
    "        \n",
    "        self.imageHist = []\n",
    "        self.imageCentroids = []\n",
    "        \n",
    "        self.imageCentroid1 = []\n",
    "        self.imageCentroid2 = []\n",
    "        self.imageCentroid3 = []\n",
    "        self.imageCentroid4 = []\n",
    "    \n",
    "        # Assign the input image File Name\n",
    "        self.imageFileName = imageFileName\n",
    "    \n",
    "        # Load / Open the images\n",
    "        self.load_image()\n",
    "    \n",
    "    # load the image\n",
    "    def load_image(self): # , imageFileName):\n",
    "        \n",
    "        try:\n",
    "        \n",
    "            self.imageTypeCv2 = cv2.imread(self.imageFileName)\n",
    "            self.imageTypePil = Image.open(self.imageFileName)\n",
    "        \n",
    "        except:\n",
    "            e = sys.exc_info()[0]\n",
    "            print('ERROR (load_image): ' + str(e))\n",
    "\n",
    "    def assign_bluegreenred_channel_statistics(self):\n",
    "        try:\n",
    "            # Split the image\n",
    "            b,g,r = cv2.split(self.imageTypeCv2)\n",
    "\n",
    "            # All the same\n",
    "            self.clrchn_b_shape = b.shape\n",
    "            self.clrchn_g_shape = g.shape\n",
    "            self.clrchn_r_shape = r.shape\n",
    "\n",
    "            self.clrchn_b_mean = b.mean()\n",
    "            self.clrchn_g_mean = g.mean()\n",
    "            self.clrchn_r_mean = r.mean()\n",
    "\n",
    "            self.clrchn_b_std = b.std()\n",
    "            self.clrchn_g_std = g.std()\n",
    "            self.clrchn_r_std = r.std()\n",
    "\n",
    "            self.clrchn_b_var = b.var()\n",
    "            self.clrchn_g_var = g.var()\n",
    "            self.clrchn_r_var = r.var()\n",
    "        except:\n",
    "            e = sys.exc_info()[0]\n",
    "            print('ERROR (assign_bluegreenred_channel_statistics): ' + str(e))        \n",
    "    \n",
    "    # Get the width x height\n",
    "    # https://stackoverflow.com/questions/1575625/how-can-i-read-how-many-pixels-an-image-has-in-python\n",
    "    def assign_image_size(self):\n",
    "        try:\n",
    "            width, height = self.imageTypePil.size\n",
    "            self.imageSize = (width * height)\n",
    "        except:\n",
    "            e = sys.exc_info()[0]\n",
    "            print('ERROR (assign_image_size): ' + str(e))  \n",
    "            \n",
    "    # import the necessary packages\n",
    "    def variance_of_laplacian(self, image):\n",
    "        try:\n",
    "            # compute the Laplacian of the image and then return the focus\n",
    "            # measure, which is simply the variance of the Laplacian\n",
    "            return cv2.Laplacian(image, cv2.CV_64F).var()\n",
    "        except:\n",
    "            e = sys.exc_info()[0]\n",
    "            print('ERROR (variance_of_laplacian): ' + str(e))\n",
    "\n",
    "    def assign_image_blur(self):\n",
    "        try:\n",
    "            # Color\n",
    "            self.blurColorScale = cv2.Laplacian(self.imageTypeCv2, cv2.CV_64F).var()\n",
    "            # GreyScale\n",
    "            self.blurGreyScale = self.variance_of_laplacian(cv2.cvtColor(self.imageTypeCv2, cv2.COLOR_BGR2GRAY))\n",
    "\n",
    "            #greyImage = cv2.cvtColor(self.cv2Image, cv2.COLOR_BGR2GRAY)\n",
    "            #self.blurGreyScale = cv2.Laplacian(greyImage)    \n",
    "        except:\n",
    "            e = sys.exc_info()[0]\n",
    "            print('ERROR (assign_image_blur): ' + str(e))          \n",
    "        \n",
    "    # Credit for this one\n",
    "    def determine_brightness_scale(self):\n",
    "        try:\n",
    "            \n",
    "            #import Image\n",
    "            imag = self.imageTypePil\n",
    "            #Convert the image te RGB if it is a .gif for example\n",
    "            imag = imag.convert ('RGB')\n",
    "            #coordinates of the pixel\n",
    "            X,Y = 0,0\n",
    "            #Get RGB\n",
    "            pixelRGB = imag.getpixel((X,Y))\n",
    "            R,G,B = pixelRGB \n",
    "\n",
    "            self.brightness = sum([R,G,B])/3 ##0 is dark (black) and 255 is bright (white)\n",
    "            #print(brightness)\n",
    "\n",
    "            #Standard\n",
    "            self.brightnessLuminanceA = (0.2126*R) + (0.7152*G) + (0.0722*B)\n",
    "\n",
    "            #Percieved A\n",
    "            self.brightnessLuminanceB = (0.299*R + 0.587*G + 0.114*B)\n",
    "\n",
    "            #Perceived B, slower to calculate\n",
    "            self.brightnessLuminanceC = np.sqrt(0.299*R**2 + 0.587*G**2 + 0.114*B**2 )\n",
    "            \n",
    "        except:\n",
    "            e = sys.exc_info()[0]\n",
    "            print('ERROR (determine_brightness_scale): ' + str(e))        \n",
    "        \n",
    "    def determine_contrast(self):\n",
    "        try:\n",
    "            self.contrastColorScale = np.var(self.imageTypeCv2)\n",
    "            self.contrastGreyScale = np.var(cv2.cvtColor(self.imageTypeCv2, cv2.COLOR_BGR2GRAY))\n",
    "\n",
    "            # Variance of the color image\n",
    "            #print(np.var(self.imageTypeCv2))\n",
    "            # greyscale\n",
    "            #print(np.var(cv2.cvtColor(self.imageTypeCv2, cv2.COLOR_BGR2GRAY)))\n",
    "        except:\n",
    "            e = sys.exc_info()[0]\n",
    "            print('ERROR (determine_contrast): ' + str(e))\n",
    "        \n",
    "    def determine_kmeans_cv2_dominant_colors(self):\n",
    "        try:\n",
    "            #img = cv2.imread(file1)\n",
    "            img = self.imageTypeCv2\n",
    "\n",
    "            Z = np.float32(img.reshape((-1,3)))\n",
    "            #Z = np.float32(Z)\n",
    "\n",
    "            # define criteria, number of clusters(K) and apply kmeans()\n",
    "            criteria = (cv2.TERM_CRITERIA_EPS + cv2.TERM_CRITERIA_MAX_ITER, 10, 1.0)\n",
    "            K=4\n",
    "            _, labels, self.imageCentroids=cv2.kmeans(Z, K, None, criteria, 10, cv2.KMEANS_RANDOM_CENTERS)\n",
    "\n",
    "            #####################\n",
    "            # Contstruct a histogram\n",
    "            numLabels = np.arange(0, len(np.unique(labels)) + 1)\n",
    "            (self.imageHist, _) = np.histogram(labels, bins = numLabels)\n",
    "\n",
    "            # normalize the histogram, such that it sums to one\n",
    "            self.imageHist = self.imageHist.astype(\"float\")\n",
    "            self.imageHist /= self.imageHist.sum()\n",
    "\n",
    "            # Assign separately (additional for now)\n",
    "            self.imageCentroid1 = self.imageCentroids[0]\n",
    "            self.imageCentroid2 = self.imageCentroids[1]\n",
    "            self.imageCentroid3 = self.imageCentroids[2]\n",
    "            self.imageCentroid4 = self.imageCentroids[3]\n",
    "            \n",
    "            #print('histogram: ' + str(self.imageHist))\n",
    "\n",
    "            # Print the Centers (of the colors)\n",
    "            #print('centers: %s' % self.imageCentroids)\n",
    "\n",
    "            #return hist, centroids\n",
    "        except:\n",
    "            e = sys.exc_info()[0]\n",
    "            print('ERROR (determine_kmeans_cv2_dominant_colors): ' + str(e))            \n",
    "        \n",
    "    # Run through all the functions below\n",
    "    def load_all_image_properties(self):\n",
    "        self.assign_bluegreenred_channel_statistics()\n",
    "        self.assign_image_size()\n",
    "        self.assign_image_blur()\n",
    "        self.determine_brightness_scale()\n",
    "        self.determine_contrast()\n",
    "        self.determine_kmeans_cv2_dominant_colors()\n",
    "        #print('All Properties loaded for image: ' + self.imageFileName)\n",
    "        \n",
    "    def to_dictionary(self):\n",
    "        return {\n",
    "            'imageFileName': self.imageFileName,\n",
    "            'clrchn_b_shape':self.clrchn_b_shape,\n",
    "            'clrchn_g_shape':self.clrchn_g_shape,\n",
    "            'clrchn_r_shape':self.clrchn_r_shape,\n",
    "\n",
    "            'clrchn_b_mean':self.clrchn_b_mean,\n",
    "            'clrchn_g_mean':self.clrchn_g_mean,\n",
    "            'clrchn_r_mean':self.clrchn_r_mean,\n",
    "            \n",
    "            'clrchn_b_std':self.clrchn_b_std,\n",
    "            'clrchn_g_std':self.clrchn_g_std,\n",
    "            'clrchn_r_std':self.clrchn_r_std,\n",
    "            \n",
    "            'clrchn_b_var':self.clrchn_b_var,\n",
    "            'clrchn_g_var':self.clrchn_g_var,\n",
    "            'clrchn_r_var':self.clrchn_r_var,\n",
    "            \n",
    "            'imageSize':self.imageSize,\n",
    "            'blurColorScale':self.blurColorScale,\n",
    "            'blurGreyScale':self.blurGreyScale,\n",
    "            'contrastColorScale':self.contrastColorScale,\n",
    "            'contrastGreyScale':self.contrastGreyScale,\n",
    "            'brightness':self.brightness,\n",
    "            'brightnessLuminanceA':self.brightnessLuminanceA,\n",
    "            'brightnessLuminanceB':self.brightnessLuminanceB,\n",
    "            'brightnessLuminanceC':self.brightnessLuminanceC,\n",
    "            'imageHist':self.imageHist,\n",
    "            #'imageCentroids':self.imageCentroids,\n",
    "            \n",
    "            'imageCentroid1':self.imageCentroid1,\n",
    "            'imageCentroid2':self.imageCentroid2,\n",
    "            'imageCentroid3':self.imageCentroid3,\n",
    "            'imageCentroid4':self.imageCentroid4\n",
    "            \n",
    "        }\n",
    "        "
   ]
  },
  {
   "cell_type": "code",
   "execution_count": null,
   "metadata": {},
   "outputs": [],
   "source": [
    "workdir = 'd:/project/data/kg_avito_demand'\n",
    "testWorkDir = 'd:/project/data/kg_avito_demand/test_jpg/'\n",
    "trainWorkDir = 'd:/project/data/kg_avito_demand/train_jpg/'\n"
   ]
  },
  {
   "cell_type": "code",
   "execution_count": null,
   "metadata": {},
   "outputs": [],
   "source": []
  },
  {
   "cell_type": "markdown",
   "metadata": {},
   "source": [
    "## TESTING FROM HERE"
   ]
  },
  {
   "cell_type": "code",
   "execution_count": null,
   "metadata": {},
   "outputs": [],
   "source": []
  },
  {
   "cell_type": "code",
   "execution_count": null,
   "metadata": {},
   "outputs": [],
   "source": [
    "ben = AvitoImage(trainWorkDir + '000cc55987a5dbeef75f6628bd6acda928b1a8758274e196e5738ab2c6b053ee.jpg')\n",
    "#ben.load_image()\n",
    "ben.imageFileName"
   ]
  },
  {
   "cell_type": "code",
   "execution_count": null,
   "metadata": {},
   "outputs": [],
   "source": [
    "ben.load_all_image_properties()"
   ]
  },
  {
   "cell_type": "code",
   "execution_count": null,
   "metadata": {},
   "outputs": [],
   "source": [
    "ben.brightnessLuminanceC"
   ]
  },
  {
   "cell_type": "code",
   "execution_count": null,
   "metadata": {},
   "outputs": [],
   "source": [
    "ben.to_dictionary()"
   ]
  },
  {
   "cell_type": "code",
   "execution_count": null,
   "metadata": {},
   "outputs": [],
   "source": [
    "df = pd.DataFrame.from_records([ben.to_dictionary()])"
   ]
  },
  {
   "cell_type": "code",
   "execution_count": null,
   "metadata": {},
   "outputs": [],
   "source": [
    "df.head()"
   ]
  },
  {
   "cell_type": "code",
   "execution_count": null,
   "metadata": {},
   "outputs": [],
   "source": [
    "df.to_csv(index=False, path_or_buf=workdir + '/exportBen.csv')\n",
    "df.to_pickle(path=workdir + '/exportBen.pickle')  "
   ]
  },
  {
   "cell_type": "code",
   "execution_count": null,
   "metadata": {},
   "outputs": [],
   "source": [
    "workdir"
   ]
  },
  {
   "cell_type": "code",
   "execution_count": null,
   "metadata": {},
   "outputs": [],
   "source": [
    "newDf = pd.read_csv(workdir + '/exportBen.csv')\n",
    "newDf"
   ]
  },
  {
   "cell_type": "code",
   "execution_count": null,
   "metadata": {},
   "outputs": [],
   "source": [
    "arrList = np.asarray(newDf['imageCentroids'])\n",
    "#arrList\n",
    "arrList[0][0][0]"
   ]
  },
  {
   "cell_type": "code",
   "execution_count": null,
   "metadata": {},
   "outputs": [],
   "source": [
    "newDfPickle = pd.read_pickle(workdir + '/exportBen.pickle')"
   ]
  },
  {
   "cell_type": "code",
   "execution_count": null,
   "metadata": {},
   "outputs": [],
   "source": [
    "newDfPickle.imageCentroids\n",
    "arrPickle = np.asarray(newDfPickle.imageCentroids)"
   ]
  },
  {
   "cell_type": "code",
   "execution_count": null,
   "metadata": {},
   "outputs": [],
   "source": [
    "arrPickle[0][0]"
   ]
  },
  {
   "cell_type": "code",
   "execution_count": null,
   "metadata": {},
   "outputs": [],
   "source": [
    "workdir = 'd:/project/data/kg_avito_demand'\n",
    "testWorkDir = 'd:/project/data/kg_avito_demand/test_jpg/'\n",
    "trainWorkDir = 'd:/project/data/kg_avito_demand/train_jpg/'\n",
    "\n",
    "ben = AvitoImage()\n",
    "ben.load_image(trainWorkDir + '000cc55987a5dbeef75f6628bd6acda928b1a8758274e196e5738ab2c6b053ee.jpg')"
   ]
  },
  {
   "cell_type": "code",
   "execution_count": null,
   "metadata": {},
   "outputs": [],
   "source": []
  },
  {
   "cell_type": "code",
   "execution_count": null,
   "metadata": {},
   "outputs": [],
   "source": [
    "# Open the main file\n",
    "dfFullFileList = pd.read_csv(workdir + '/FullImageFileList.csv')"
   ]
  },
  {
   "cell_type": "code",
   "execution_count": null,
   "metadata": {},
   "outputs": [],
   "source": [
    "dfFullFileList.head()"
   ]
  },
  {
   "cell_type": "code",
   "execution_count": null,
   "metadata": {},
   "outputs": [],
   "source": [
    "# Now add each of the items to the dataframe"
   ]
  },
  {
   "cell_type": "code",
   "execution_count": null,
   "metadata": {},
   "outputs": [],
   "source": [
    "# Then loop through each one for the group and then start appending"
   ]
  },
  {
   "cell_type": "code",
   "execution_count": null,
   "metadata": {},
   "outputs": [],
   "source": [
    "dicBen = ben.to_dictionary()"
   ]
  },
  {
   "cell_type": "code",
   "execution_count": null,
   "metadata": {},
   "outputs": [],
   "source": [
    "\n"
   ]
  },
  {
   "cell_type": "code",
   "execution_count": null,
   "metadata": {},
   "outputs": [],
   "source": [
    "ben2 =  getattr(ben,'imageCentroid2')\n",
    "ben2"
   ]
  },
  {
   "cell_type": "code",
   "execution_count": null,
   "metadata": {},
   "outputs": [],
   "source": []
  },
  {
   "cell_type": "markdown",
   "metadata": {},
   "source": [
    "## Now Process the File / Group"
   ]
  },
  {
   "cell_type": "code",
   "execution_count": null,
   "metadata": {},
   "outputs": [],
   "source": [
    "## SET THE GROUP NUMBER WE ARE PROCESSING\n",
    "CONST_GROUP_NUM = 1"
   ]
  },
  {
   "cell_type": "code",
   "execution_count": null,
   "metadata": {},
   "outputs": [],
   "source": [
    "def add_additional_columns_to_dataframe(df, columnList):\n",
    "    \n",
    "    # Create the translated dataframe column\n",
    "    for i in columnList:\n",
    "        # check for existing\n",
    "        if i in df:\n",
    "            print(str(i) + ' - exists')\n",
    "        else:\n",
    "            print('Added col: ' + str(i))\n",
    "            df[i] = ''\n",
    "\n",
    "\n",
    "    return df"
   ]
  },
  {
   "cell_type": "code",
   "execution_count": null,
   "metadata": {},
   "outputs": [],
   "source": [
    "emptyClass = AvitoImage('')\n",
    "\n",
    "colList = []\n",
    "dictKeys = emptyClass.to_dictionary()\n",
    "for key in dictKeys.keys():\n",
    "    print(key)\n",
    "    \n",
    "    colList.append(key)"
   ]
  },
  {
   "cell_type": "code",
   "execution_count": null,
   "metadata": {},
   "outputs": [],
   "source": [
    "groupedFileName = workdir + '/FullImageFileList_' + str(CONST_GROUP_NUM) + '.csv'\n",
    "\n",
    "# Check to see if group file exists or not\n",
    "if os.path.isfile(groupedFileName) == False:\n",
    "    print('file not found - reading raw file')\n",
    "    # Create the dataframe from the base file\n",
    "    dfGroup = pd.read_csv(workdir + '/FullImageFileList.csv')\n",
    "    \n",
    "    # append the additional columns\n",
    "    dfGroup = add_additional_columns_to_dataframe(dfGroup, colList)\n",
    "    \n",
    "    # else read it in, and re-write to it\n",
    "    df = dfGroup[dfGroup['group']==CONST_GROUP_NUM].copy()\n",
    "    df = df.reset_index(drop=True)\n",
    "    \n",
    "else:\n",
    "    print('file found - read in')\n",
    "    dfGroup = pd.read_csv(groupedFileName)\n",
    "    df = dfGroup.copy()"
   ]
  },
  {
   "cell_type": "code",
   "execution_count": null,
   "metadata": {},
   "outputs": [],
   "source": [
    "print('Total row to convert: ' + str(len(df[df['processed']==0])) + ' out of: ' + str(len(df)))\n",
    "df.tail()\n"
   ]
  },
  {
   "cell_type": "code",
   "execution_count": null,
   "metadata": {
    "scrolled": true
   },
   "outputs": [],
   "source": [
    "print('Total row to convert: ' + str(len(df[df['processed']==0])) + ' out of: ' + str(len(df)))\n",
    "startTime = datetime.now()\n",
    "\n",
    "\n",
    "# For each row in the data set\n",
    "for i, row in df.iterrows():\n",
    "\n",
    "    #print('row ' + str(i))\n",
    "    # Here skip if we have already processed (or only process if still outstanding)\n",
    "    if df.at[i, 'processed'] == 0:\n",
    "        \n",
    "        # load the class item\n",
    "        imgClass = AvitoImage(df.at[i, 'filename'])\n",
    "        imgClass.load_all_image_properties()\n",
    "\n",
    "        dictImage = imgClass.to_dictionary()\n",
    "\n",
    "        # now cycle through each of the individual columns at a time\n",
    "        for key in dictImage.keys():\n",
    "            #print(key)\n",
    "            tempAttr= getattr(imgClass,key)\n",
    "            #print(str(tempAttr))\n",
    "            df.iloc[i,df.columns.get_loc(key)] = str(getattr(imgClass,key))\n",
    "\n",
    "            # Set the processed\n",
    "        df.at[i, 'processed'] = 1\n",
    "\n",
    "        # only run on the second column, not each column for the checkpoint\n",
    "        if (i % 20000 == 0):\n",
    "            print('Processed row (' + str(datetime.now()) + '): ' + str(i) + ' and creating file snapshot. ' + str(datetime.now() - startTime))\n",
    "\n",
    "            file = codecs.open(groupedFileName, 'w', 'utf-8') \n",
    "            df.to_csv(file, index=False)\n",
    "            file.close()\n",
    "\n",
    "    # Test 25\n",
    "    #if i % 10 == 0:\n",
    "    #    break\n",
    "\n",
    "print('Finished')\n",
    "\n",
    "# old\n",
    "#with codecs.open(exportFileName, 'a', 'utf-8') as f:  \n",
    "    #print(df.iloc[i])\n",
    "    #df.iloc[i].to_csv(f, header=False, index=False, encoding=\"latin-1\") #, quotechar='\"')\n",
    "    #df_EstimatesRun.to_csv(f, header=includeHeaderRunOnce, index=False, quotechar='\"')\n",
    "       \n",
    "print (datetime.now() - startTime)\n",
    "print('Finished - Writing final File')\n",
    "\n",
    "# Final Write\n",
    "file = codecs.open(groupedFileName, 'w', 'utf-8') \n",
    "df.to_csv(file, index=False)\n",
    "file.close()\n",
    "\n",
    "print('All Rows Processed!')"
   ]
  },
  {
   "cell_type": "code",
   "execution_count": null,
   "metadata": {},
   "outputs": [],
   "source": []
  }
 ],
 "metadata": {
  "kernelspec": {
   "display_name": "Python 3",
   "language": "python",
   "name": "python3"
  },
  "language_info": {
   "codemirror_mode": {
    "name": "ipython",
    "version": 3
   },
   "file_extension": ".py",
   "mimetype": "text/x-python",
   "name": "python",
   "nbconvert_exporter": "python",
   "pygments_lexer": "ipython3",
   "version": "3.6.6"
  }
 },
 "nbformat": 4,
 "nbformat_minor": 2
}
