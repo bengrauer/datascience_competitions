{
 "cells": [
  {
   "cell_type": "code",
   "execution_count": 1,
   "metadata": {},
   "outputs": [],
   "source": [
    "# This script will read in all of the image files in a directory and then split them into 4 groups to be split and\n",
    "#  have the images processed in parallel of 4 groups at a time.  3 on train, 1 on test."
   ]
  },
  {
   "cell_type": "code",
   "execution_count": null,
   "metadata": {},
   "outputs": [],
   "source": [
    "import glob\n",
    "import pandas as pd"
   ]
  },
  {
   "cell_type": "code",
   "execution_count": 2,
   "metadata": {},
   "outputs": [],
   "source": [
    "workdir = 'd:/project/data/kg_avito_demand/'"
   ]
  },
  {
   "cell_type": "code",
   "execution_count": 3,
   "metadata": {},
   "outputs": [],
   "source": [
    "trainList = glob.glob('d:/project/data/kg_avito_demand/train_jpg/*.*')\n",
    "testList = glob.glob('d:/project/data/kg_avito_demand/test_jpg/*.*')"
   ]
  },
  {
   "cell_type": "code",
   "execution_count": 4,
   "metadata": {},
   "outputs": [],
   "source": [
    "# Convert to a dataFrame\n",
    "dfTrain = pd.DataFrame(trainList, columns=['filename'])\n",
    "dfTest = pd.DataFrame(testList, columns=['filename'])"
   ]
  },
  {
   "cell_type": "code",
   "execution_count": 5,
   "metadata": {},
   "outputs": [
    {
     "name": "stdout",
     "output_type": "stream",
     "text": [
      "1390836\n",
      "465829\n"
     ]
    }
   ],
   "source": [
    "print(len(dfTrain))\n",
    "print(len(dfTest))"
   ]
  },
  {
   "cell_type": "code",
   "execution_count": 6,
   "metadata": {},
   "outputs": [],
   "source": [
    "# Create the train or test\n",
    "dfTrain['test_or_train'] = 'train'\n",
    "dfTest['test_or_train'] = 'test'"
   ]
  },
  {
   "cell_type": "code",
   "execution_count": 7,
   "metadata": {},
   "outputs": [],
   "source": [
    "# Cut the group into 3 for train\n",
    "dfTrain['group'] = pd.cut(dfTrain.index, [-1, 500000, 1000000, 2000000], labels=['1','2','3'])\n",
    "dfTest['group'] = '4'"
   ]
  },
  {
   "cell_type": "code",
   "execution_count": 8,
   "metadata": {},
   "outputs": [],
   "source": [
    "# Now join the two\n",
    "dfFull = dfTrain.append(dfTest)"
   ]
  },
  {
   "cell_type": "code",
   "execution_count": 9,
   "metadata": {},
   "outputs": [],
   "source": [
    "# Export to csv file for use of splitting/processing per core on the images\n",
    "dfFull.to_csv(workdir + 'FullImageFileList.csv', index=False)"
   ]
  }
 ],
 "metadata": {
  "kernelspec": {
   "display_name": "Python 3",
   "language": "python",
   "name": "python3"
  },
  "language_info": {
   "codemirror_mode": {
    "name": "ipython",
    "version": 3
   },
   "file_extension": ".py",
   "mimetype": "text/x-python",
   "name": "python",
   "nbconvert_exporter": "python",
   "pygments_lexer": "ipython3",
   "version": "3.6.6"
  }
 },
 "nbformat": 4,
 "nbformat_minor": 2
}
